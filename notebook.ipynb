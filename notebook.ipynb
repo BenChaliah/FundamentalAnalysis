{
 "cells": [
  {
   "cell_type": "markdown",
   "metadata": {},
   "source": [
    "# Preparing the financial data (news & market values)"
   ]
  },
  {
   "cell_type": "code",
   "execution_count": 1,
   "metadata": {
    "scrolled": false
   },
   "outputs": [
    {
     "name": "stdout",
     "output_type": "stream",
     "text": [
      "   change  changeOverTime  changePercent   close        date     high   label  \\\n",
      "0    1.68        0.000000          0.899  188.47  2019-03-27  189.760  Mar 27   \n",
      "1    0.25        0.001326          0.133  188.72  2019-03-28  189.559  Mar 28   \n",
      "2    1.23        0.007853          0.652  189.95  2019-03-29  190.080  Mar 29   \n",
      "3    1.29        0.014697          0.679  191.24  2019-04-01  191.680   Apr 1   \n",
      "4    2.78        0.029448          1.454  194.02  2019-04-02  194.460   Apr 2   \n",
      "5    1.33        0.036504          0.685  195.35  2019-04-03  196.500   Apr 3   \n",
      "6    0.34        0.038308          0.174  195.69  2019-04-04  196.370   Apr 4   \n",
      "7    1.31        0.045259          0.669  197.00  2019-04-05  197.100   Apr 5   \n",
      "8    3.10        0.061707          1.574  200.10  2019-04-08  200.230   Apr 8   \n",
      "9   -0.60        0.058524         -0.300  199.50  2019-04-09  202.850   Apr 9   \n",
      "\n",
      "      low    open  unadjustedVolume    volume      vwap symbol  \n",
      "0  186.55  188.75          29848427  29848427  188.4940   AAPL  \n",
      "1  187.53  188.95          20780363  20780363  188.3970   AAPL  \n",
      "2  188.54  189.83          23563961  23563961  189.4892   AAPL  \n",
      "3  188.38  191.64          27861964  27861964  190.2816   AAPL  \n",
      "4  191.05  191.09          22765732  22765732  193.0776   AAPL  \n",
      "5  193.15  193.25          23271830  23271830  195.2951   AAPL  \n",
      "6  193.14  194.79          19114275  19114275  195.6612   AAPL  \n",
      "7  195.93  196.45          18526644  18526644  196.6188   AAPL  \n",
      "8  196.34  196.42          25881697  25881697  198.9594   AAPL  \n",
      "9  199.23  200.32          35768237  35768237  200.9319   AAPL  \n"
     ]
    }
   ],
   "source": [
    "from FinancialData import financial_data\n",
    "iex = financial_data()\n",
    "print(iex.get_trade_bars(['AAPL'], '1m')[:10])"
   ]
  },
  {
   "cell_type": "code",
   "execution_count": 2,
   "metadata": {},
   "outputs": [
    {
     "name": "stdout",
     "output_type": "stream",
     "text": [
      "  symbol                      time  \\\n",
      "0   AAPL 2019-04-27 09:12:19-04:00   \n",
      "1   MSFT 2019-04-26 23:24:51-04:00   \n",
      "\n",
      "                                            headline  \n",
      "0  Stocks To Watch: Eyes On Apple, Uber, F8 And A...  \n",
      "1  Azure And The Cloud Have Reinvigorated&#xA0;Mi...  \n"
     ]
    }
   ],
   "source": [
    "print(iex.get_news(['AAPL', 'MSFT'])[['symbol','time','headline']][:10])"
   ]
  },
  {
   "cell_type": "code",
   "execution_count": 3,
   "metadata": {},
   "outputs": [],
   "source": [
    "# list(iex.all_ticker()) : list off all valid securities' symbols\n",
    "# This step could take a while, considering that this API provides 8750 security's related news\n",
    "df = iex.get_news(list(iex.all_ticker()))\n",
    "df.to_excel(\"assets/news.xlsx\")"
   ]
  },
  {
   "cell_type": "code",
   "execution_count": 7,
   "metadata": {},
   "outputs": [
    {
     "data": {
      "text/html": [
       "<div>\n",
       "<style scoped>\n",
       "    .dataframe tbody tr th:only-of-type {\n",
       "        vertical-align: middle;\n",
       "    }\n",
       "\n",
       "    .dataframe tbody tr th {\n",
       "        vertical-align: top;\n",
       "    }\n",
       "\n",
       "    .dataframe thead th {\n",
       "        text-align: right;\n",
       "    }\n",
       "</style>\n",
       "<table border=\"1\" class=\"dataframe\">\n",
       "  <thead>\n",
       "    <tr style=\"text-align: right;\">\n",
       "      <th></th>\n",
       "      <th>symbol</th>\n",
       "      <th>time</th>\n",
       "      <th>headline</th>\n",
       "      <th>summary</th>\n",
       "    </tr>\n",
       "  </thead>\n",
       "  <tbody>\n",
       "    <tr>\n",
       "      <th>0</th>\n",
       "      <td>KAI</td>\n",
       "      <td>2019-04-04 16:25:54</td>\n",
       "      <td>12 Upcoming Dividend Increases</td>\n",
       "      <td>I'm a huge fan of dividend growth stocks an...</td>\n",
       "    </tr>\n",
       "    <tr>\n",
       "      <th>2</th>\n",
       "      <td>ALTM</td>\n",
       "      <td>2019-04-12 21:27:00</td>\n",
       "      <td>FERC clears EPIC pipeline rates, three others ...</td>\n",
       "      <td>The 550K bbl/day EPIC pipeline  wins appr...</td>\n",
       "    </tr>\n",
       "    <tr>\n",
       "      <th>3</th>\n",
       "      <td>ALTM</td>\n",
       "      <td>2019-03-31 20:26:45</td>\n",
       "      <td>Midstream Lollygags Into Quarter End</td>\n",
       "      <td>Stock prices across midstream were little c...</td>\n",
       "    </tr>\n",
       "    <tr>\n",
       "      <th>4</th>\n",
       "      <td>ALTM</td>\n",
       "      <td>2019-03-24 12:54:34</td>\n",
       "      <td>Midstream Marches Higher</td>\n",
       "      <td>The broad market crapped out Friday after r...</td>\n",
       "    </tr>\n",
       "    <tr>\n",
       "      <th>6</th>\n",
       "      <td>ATRI</td>\n",
       "      <td>2019-04-03 20:50:37</td>\n",
       "      <td>The Most Undervalued And Overvalued Dividend C...</td>\n",
       "      <td>In June of 2015, I started a series of arti...</td>\n",
       "    </tr>\n",
       "  </tbody>\n",
       "</table>\n",
       "</div>"
      ],
      "text/plain": [
       "  symbol                time  \\\n",
       "0    KAI 2019-04-04 16:25:54   \n",
       "2   ALTM 2019-04-12 21:27:00   \n",
       "3   ALTM 2019-03-31 20:26:45   \n",
       "4   ALTM 2019-03-24 12:54:34   \n",
       "6   ATRI 2019-04-03 20:50:37   \n",
       "\n",
       "                                            headline  \\\n",
       "0                     12 Upcoming Dividend Increases   \n",
       "2  FERC clears EPIC pipeline rates, three others ...   \n",
       "3               Midstream Lollygags Into Quarter End   \n",
       "4                           Midstream Marches Higher   \n",
       "6  The Most Undervalued And Overvalued Dividend C...   \n",
       "\n",
       "                                             summary  \n",
       "0     I'm a huge fan of dividend growth stocks an...  \n",
       "2       The 550K bbl/day EPIC pipeline  wins appr...  \n",
       "3     Stock prices across midstream were little c...  \n",
       "4     The broad market crapped out Friday after r...  \n",
       "6     In June of 2015, I started a series of arti...  "
      ]
     },
     "execution_count": 7,
     "metadata": {},
     "output_type": "execute_result"
    }
   ],
   "source": [
    "##### IOdy.py : ######\n",
    "import pandas as pd\n",
    "from datetime import datetime, timedelta\n",
    "from pandas_datareader import data\n",
    "import numpy as np\n",
    "\n",
    "news = pd.read_excel('assets/news.xlsx', index_col=0)\n",
    "\n",
    "#remove news that are published earlier than 30 days from today\n",
    "absolute_thresh = pd.Timestamp(datetime.today().date()-timedelta(days=30))\n",
    "news = pd.read_excel('assets/news.xlsx', index_col=0)\n",
    "news = news.loc[news['time']>=absolute_thresh]\n",
    "news[['symbol', 'time', 'headline', 'summary']].head()"
   ]
  },
  {
   "cell_type": "code",
   "execution_count": 16,
   "metadata": {},
   "outputs": [],
   "source": [
    "# Extracting dates and creating consecutive time intervals\n",
    "dates_ = []\n",
    "for i in list(news.sort_values(by='time', ascending=True)['time']):\n",
    "\ttmp_ = i.date()\n",
    "\tif(tmp_ not in dates_):dates_.append(i.date())\n",
    "\n",
    "intervals_ = [[dates_[i], dates_[i+1]] for i in range(len(dates_)-1)]"
   ]
  },
  {
   "cell_type": "code",
   "execution_count": 17,
   "metadata": {
    "scrolled": true
   },
   "outputs": [
    {
     "data": {
      "text/html": [
       "<div>\n",
       "<style scoped>\n",
       "    .dataframe tbody tr th:only-of-type {\n",
       "        vertical-align: middle;\n",
       "    }\n",
       "\n",
       "    .dataframe tbody tr th {\n",
       "        vertical-align: top;\n",
       "    }\n",
       "\n",
       "    .dataframe thead th {\n",
       "        text-align: right;\n",
       "    }\n",
       "</style>\n",
       "<table border=\"1\" class=\"dataframe\">\n",
       "  <thead>\n",
       "    <tr style=\"text-align: right;\">\n",
       "      <th></th>\n",
       "      <th>High</th>\n",
       "      <th>Low</th>\n",
       "      <th>Open</th>\n",
       "      <th>Close</th>\n",
       "      <th>Volume</th>\n",
       "      <th>Adj Close</th>\n",
       "    </tr>\n",
       "    <tr>\n",
       "      <th>Date</th>\n",
       "      <th></th>\n",
       "      <th></th>\n",
       "      <th></th>\n",
       "      <th></th>\n",
       "      <th></th>\n",
       "      <th></th>\n",
       "    </tr>\n",
       "  </thead>\n",
       "  <tbody>\n",
       "    <tr>\n",
       "      <th>2019-03-21</th>\n",
       "      <td>196.330002</td>\n",
       "      <td>189.809998</td>\n",
       "      <td>190.020004</td>\n",
       "      <td>195.089996</td>\n",
       "      <td>51034200</td>\n",
       "      <td>195.089996</td>\n",
       "    </tr>\n",
       "    <tr>\n",
       "      <th>2019-03-22</th>\n",
       "      <td>197.690002</td>\n",
       "      <td>190.779999</td>\n",
       "      <td>195.339996</td>\n",
       "      <td>191.050003</td>\n",
       "      <td>42407700</td>\n",
       "      <td>191.050003</td>\n",
       "    </tr>\n",
       "  </tbody>\n",
       "</table>\n",
       "</div>"
      ],
      "text/plain": [
       "                  High         Low        Open       Close    Volume  \\\n",
       "Date                                                                   \n",
       "2019-03-21  196.330002  189.809998  190.020004  195.089996  51034200   \n",
       "2019-03-22  197.690002  190.779999  195.339996  191.050003  42407700   \n",
       "\n",
       "             Adj Close  \n",
       "Date                    \n",
       "2019-03-21  195.089996  \n",
       "2019-03-22  191.050003  "
      ]
     },
     "execution_count": 17,
     "metadata": {},
     "output_type": "execute_result"
    }
   ],
   "source": [
    "# This function uses Yahoo Finance to market data\n",
    "def get_market(security, start_date, end_date):\n",
    "\tend_date_str = end_date.strftime(\"%Y-%m-%d\")\n",
    "\tstart_date_str = start_date.strftime(\"%Y-%m-%d\")\n",
    "\tasset_ = data.DataReader(security,  start=start_date_str, end=end_date_str, data_source='yahoo')\n",
    "\treturn asset_\n",
    "\n",
    "get_market('AAPL', intervals_[0][0], intervals_[0][1])"
   ]
  },
  {
   "cell_type": "code",
   "execution_count": 18,
   "metadata": {},
   "outputs": [
    {
     "data": {
      "text/plain": [
       "-0.020708356973546005"
      ]
     },
     "execution_count": 18,
     "metadata": {},
     "output_type": "execute_result"
    }
   ],
   "source": [
    "# Calculate the variation in a security price between start_date and end_date\n",
    "market_resp = get_market('AAPL', intervals_[0][0], intervals_[0][1])\n",
    "market_resp.pct_change()['Close'].values[-1]"
   ]
  },
  {
   "cell_type": "code",
   "execution_count": 3,
   "metadata": {
    "scrolled": true
   },
   "outputs": [
    {
     "data": {
      "text/html": [
       "<div>\n",
       "<style scoped>\n",
       "    .dataframe tbody tr th:only-of-type {\n",
       "        vertical-align: middle;\n",
       "    }\n",
       "\n",
       "    .dataframe tbody tr th {\n",
       "        vertical-align: top;\n",
       "    }\n",
       "\n",
       "    .dataframe thead th {\n",
       "        text-align: right;\n",
       "    }\n",
       "</style>\n",
       "<table border=\"1\" class=\"dataframe\">\n",
       "  <thead>\n",
       "    <tr style=\"text-align: right;\">\n",
       "      <th></th>\n",
       "      <th>symbol</th>\n",
       "      <th>summary</th>\n",
       "      <th>time</th>\n",
       "      <th>Close_variation</th>\n",
       "    </tr>\n",
       "  </thead>\n",
       "  <tbody>\n",
       "    <tr>\n",
       "      <th>0</th>\n",
       "      <td>BHR</td>\n",
       "      <td>BHR the Back h… year, in discount Resorts arg...</td>\n",
       "      <td>2019-03-19</td>\n",
       "      <td>0.038429</td>\n",
       "    </tr>\n",
       "    <tr>\n",
       "      <th>1</th>\n",
       "      <td>DMAC</td>\n",
       "      <td>DMAC Healthcare More … DiaMedica on: news sto...</td>\n",
       "      <td>2019-03-19</td>\n",
       "      <td>0.010638</td>\n",
       "    </tr>\n",
       "    <tr>\n",
       "      <th>2</th>\n",
       "      <td>CREE</td>\n",
       "      <td>Ga… the CREE in production like sales some ti...</td>\n",
       "      <td>2019-03-19</td>\n",
       "      <td>0.010475</td>\n",
       "    </tr>\n",
       "    <tr>\n",
       "      <th>3</th>\n",
       "      <td>KOPN</td>\n",
       "      <td>announced KOPN), the wearable … stock. an sol...</td>\n",
       "      <td>2019-03-19</td>\n",
       "      <td>-0.008547</td>\n",
       "    </tr>\n",
       "    <tr>\n",
       "      <th>4</th>\n",
       "      <td>VTGN</td>\n",
       "      <td>this following deck published was more VistaG...</td>\n",
       "      <td>2019-03-19</td>\n",
       "      <td>-0.052632</td>\n",
       "    </tr>\n",
       "  </tbody>\n",
       "</table>\n",
       "</div>"
      ],
      "text/plain": [
       "  symbol                                            summary       time  \\\n",
       "0    BHR   BHR the Back h… year, in discount Resorts arg... 2019-03-19   \n",
       "1   DMAC   DMAC Healthcare More … DiaMedica on: news sto... 2019-03-19   \n",
       "2   CREE   Ga… the CREE in production like sales some ti... 2019-03-19   \n",
       "3   KOPN   announced KOPN), the wearable … stock. an sol... 2019-03-19   \n",
       "4   VTGN   this following deck published was more VistaG... 2019-03-19   \n",
       "\n",
       "   Close_variation  \n",
       "0         0.038429  \n",
       "1         0.010638  \n",
       "2         0.010475  \n",
       "3        -0.008547  \n",
       "4        -0.052632  "
      ]
     },
     "execution_count": 3,
     "metadata": {},
     "output_type": "execute_result"
    }
   ],
   "source": [
    "import pandas as pd\n",
    "\n",
    "# Joining the news with the associated market value (variation)\n",
    "available_market = []\n",
    "for j in intervals_:\n",
    "    tmp_df = news.loc[(news['time']>=pd.Timestamp(j[0])) & (news['time']<pd.Timestamp(j[1]))].copy()\n",
    "    for l in list(set(tmp_df['symbol'])):\n",
    "        try:\n",
    "            tmp_sum = ''.join(list(tmp_df.loc[(tmp_df['symbol']==l)]['summary']))\n",
    "            tmp_sum = ' '.join(list(set(''.join(tmp_sum).split(' '))))\n",
    "            market_resp = get_market(l, j[0], j[1])\n",
    "            market_close = market_resp['Close'].values[-1]\n",
    "            market_var = market_resp.pct_change()['Close'].values[-1]\n",
    "            available_market.append(pd.DataFrame(np.array([[l, tmp_sum, pd.Timestamp(j[0]), market_close, market_var]]), index=range(1), columns=['symbol', 'summary', 'time' , 'Close' , 'Close_variation']))\n",
    "        except Exception as e:\n",
    "            print('[!] Error: ' + str(e))\n",
    "\n",
    "tmp_pd = pd.concat(available_market)\n",
    "tmp_pd.to_excel(\"assets/news_market.xlsx\")\n",
    "tmp_pd.head()[['symbol', 'summary', 'time', 'Close_variation']]"
   ]
  },
  {
   "cell_type": "markdown",
   "metadata": {},
   "source": [
    "# Clustering : Word dimensions (Sentiment & Distance)"
   ]
  },
  {
   "cell_type": "code",
   "execution_count": 9,
   "metadata": {},
   "outputs": [
    {
     "name": "stdout",
     "output_type": "stream",
     "text": [
      "Good Accuracy: 0.440400\n",
      "Bad Accuracy: -0.542300\n"
     ]
    }
   ],
   "source": [
    "####### NLP : Sentiment ###########\n",
    "\n",
    "import nltk\n",
    "from nltk.sentiment.vader import SentimentIntensityAnalyzer\n",
    "\n",
    "sia = SentimentIntensityAnalyzer()\n",
    "# Compound : aggregated score\n",
    "print(\"Good Accuracy: %f\"%sia.polarity_scores(\"good\")['compound'])\n",
    "print(\"Bad Accuracy: %f\"%sia.polarity_scores(\"bad\")['compound'])"
   ]
  },
  {
   "cell_type": "code",
   "execution_count": 53,
   "metadata": {},
   "outputs": [
    {
     "name": "stdout",
     "output_type": "stream",
     "text": [
      "[!] Approximated sentiment: -0.226300\n"
     ]
    }
   ],
   "source": [
    "## For words that doesn't belong to the sentiment lexicon we use synonyms, antonyms \n",
    "\n",
    "import numpy as np\n",
    "from nltk.corpus import wordnet\n",
    "\n",
    "def approximate_sentiment(seq1, words_ref):\n",
    "\tglobal sia\n",
    "\tlexicon_, syn, ant = [0], [], []\n",
    "\tfor l in range(2):\n",
    "\t\tfor synset in wordnet.synsets(seq1):\n",
    "\t\t\tfor lemma in synset.lemmas():\n",
    "\t\t\t\tsyn.append(lemma.name())\n",
    "\t\t\t\tif lemma.antonyms():\n",
    "\t\t\t\t\tant.append(lemma.antonyms()[0].name())\n",
    "\t\ttmp_corpus = []\n",
    "\t\tfor i in syn:\n",
    "\t\t\tsent_ = sia.polarity_scores(i)['compound']\n",
    "\t\t\tif abs(sent_):\n",
    "\t\t\t\ttmp_corpus.append(sent_)\n",
    "\t\t\tif sum([1 for i in tmp_corpus if i>0])>len(tmp_corpus)/2:\n",
    "\t\t\t\treturn np.mean([i for i in tmp_corpus if i>0])\n",
    "\t\t\telif sum([1 for i in tmp_corpus if i<0])>len(tmp_corpus)/2:\n",
    "\t\t\t\treturn np.mean([i for i in tmp_corpus if i<0])\n",
    "\t\ttmp_corpus = []\n",
    "\t\tfor i in ant:\n",
    "\t\t\tsent_ = sia.polarity_scores(i)['compound']\n",
    "\t\t\tif abs(sent_):\n",
    "\t\t\t\ttmp_corpus.append(sent_)\n",
    "\t\t\tif sum([1 for i in tmp_corpus if i>0])>len(tmp_corpus)/2:\n",
    "\t\t\t\treturn -1*np.mean([i for i in tmp_corpus if i>0])\n",
    "\t\t\telif sum([1 for i in tmp_corpus if i<0])>len(tmp_corpus)/2:\n",
    "\t\t\t\treturn -1*np.mean([i for i in tmp_corpus if i<0])\n",
    "\t\tfor j in words_ref[:0]:\n",
    "\t\t\tif j[:2]==\"un\":\n",
    "\t\t\t\tj = j[:2]\n",
    "\t\t\tlexicon_.append(SequenceMatcher(None, seq1, j).ratio())\n",
    "\t\tif max(lexicon_)>=0.85:\n",
    "\t\t\tresp_ = words_ref[lexicon_.index(max(lexicon_))]\n",
    "\t\t\tif resp_[:2] in [\"un\", \"in\"]:\n",
    "\t\t\t\tseq1 = resp_\n",
    "\treturn 0\n",
    "\n",
    "### words_ref : list of words available in the sentiment lexicon ###\n",
    "words_ref = list(sia.make_lex_dict().keys())\n",
    "if \"crooked\" not in words_ref:\n",
    "    print(\"[!] Approximated sentiment: %f\"%float(approximate_sentiment(\"crooked\", words_ref)))"
   ]
  },
  {
   "cell_type": "code",
   "execution_count": 59,
   "metadata": {},
   "outputs": [
    {
     "name": "stdout",
     "output_type": "stream",
     "text": [
      "574\n",
      "598\n",
      "624\n"
     ]
    }
   ],
   "source": [
    "# Distance metric : (this metric doesn't require two words to make comparison)\n",
    "import string\n",
    "def absolute_distance(seq1):\n",
    "\tseq1 = seq1.replace(\"-\",\"\")\n",
    "\ttry:\n",
    "\t\tref_ = np.array(range(1,10))\n",
    "\t\tspacial_seq = [string.ascii_lowercase.index(i) for i in (seq1+string.ascii_lowercase[:9])[:9]]\n",
    "\t\treturn np.sum((np.array(spacial_seq)-np.array(ref_))**2)\n",
    "\texcept Exception as e:\n",
    "\t\treturn str(e)\n",
    "\n",
    "print(absolute_distance(\"bright\"))\n",
    "print(absolute_distance(\"brighter\"))\n",
    "# Non-commutative\n",
    "print(absolute_distance(\"brightre\"))"
   ]
  },
  {
   "cell_type": "code",
   "execution_count": 76,
   "metadata": {},
   "outputs": [
    {
     "data": {
      "text/html": [
       "<div>\n",
       "<style scoped>\n",
       "    .dataframe tbody tr th:only-of-type {\n",
       "        vertical-align: middle;\n",
       "    }\n",
       "\n",
       "    .dataframe tbody tr th {\n",
       "        vertical-align: top;\n",
       "    }\n",
       "\n",
       "    .dataframe thead th {\n",
       "        text-align: right;\n",
       "    }\n",
       "</style>\n",
       "<table border=\"1\" class=\"dataframe\">\n",
       "  <thead>\n",
       "    <tr style=\"text-align: right;\">\n",
       "      <th></th>\n",
       "      <th>distance</th>\n",
       "      <th>sentiment</th>\n",
       "    </tr>\n",
       "  </thead>\n",
       "  <tbody>\n",
       "    <tr>\n",
       "      <th>detached</th>\n",
       "      <td>0.224004</td>\n",
       "      <td>-0.1280</td>\n",
       "    </tr>\n",
       "    <tr>\n",
       "      <th>caldera</th>\n",
       "      <td>0.204093</td>\n",
       "      <td>0.0000</td>\n",
       "    </tr>\n",
       "    <tr>\n",
       "      <th>uncritically</th>\n",
       "      <td>0.524336</td>\n",
       "      <td>0.0000</td>\n",
       "    </tr>\n",
       "    <tr>\n",
       "      <th>remaps</th>\n",
       "      <td>0.413717</td>\n",
       "      <td>0.0000</td>\n",
       "    </tr>\n",
       "    <tr>\n",
       "      <th>silting</th>\n",
       "      <td>0.443031</td>\n",
       "      <td>0.0000</td>\n",
       "    </tr>\n",
       "    <tr>\n",
       "      <th>stymied</th>\n",
       "      <td>0.685841</td>\n",
       "      <td>-0.4404</td>\n",
       "    </tr>\n",
       "    <tr>\n",
       "      <th>advantages</th>\n",
       "      <td>0.361173</td>\n",
       "      <td>0.3612</td>\n",
       "    </tr>\n",
       "    <tr>\n",
       "      <th>polluting</th>\n",
       "      <td>0.487832</td>\n",
       "      <td>-0.5106</td>\n",
       "    </tr>\n",
       "    <tr>\n",
       "      <th>guiltily</th>\n",
       "      <td>0.539823</td>\n",
       "      <td>-0.2732</td>\n",
       "    </tr>\n",
       "    <tr>\n",
       "      <th>darwin</th>\n",
       "      <td>0.405420</td>\n",
       "      <td>0.0000</td>\n",
       "    </tr>\n",
       "  </tbody>\n",
       "</table>\n",
       "</div>"
      ],
      "text/plain": [
       "              distance  sentiment\n",
       "detached      0.224004    -0.1280\n",
       "caldera       0.204093     0.0000\n",
       "uncritically  0.524336     0.0000\n",
       "remaps        0.413717     0.0000\n",
       "silting       0.443031     0.0000\n",
       "stymied       0.685841    -0.4404\n",
       "advantages    0.361173     0.3612\n",
       "polluting     0.487832    -0.5106\n",
       "guiltily      0.539823    -0.2732\n",
       "darwin        0.405420     0.0000"
      ]
     },
     "execution_count": 76,
     "metadata": {},
     "output_type": "execute_result"
    }
   ],
   "source": [
    "# make a dataframe of words and their respective dimensions\n",
    "\n",
    "def base_df(words_list):\n",
    "\tglobal sia\n",
    "\tdistance_ = []\n",
    "\tvader_sentiment_ = []\n",
    "\twords_ref = list(sia.make_lex_dict().keys())\n",
    "\tfor i in words_list:\n",
    "\t\tdistance_.append(absolute_distance(i))\n",
    "\t\tsent_ = sia.polarity_scores(i)['compound']\n",
    "\t\tif not sent_:\n",
    "\t\t\tsent_ = approximate_sentiment(i, words_ref)\n",
    "\t\tvader_sentiment_.append(sent_)\n",
    "\tdf = pd.DataFrame(np.array([distance_, vader_sentiment_]).transpose(), index=[i for i in words_list], columns=['distance','sentiment'])\n",
    "\tdf['distance'] = pd.to_numeric(df['distance'], errors='coerce')\n",
    "\tdf['sentiment'] = pd.to_numeric(df['sentiment'], errors='coerce')\n",
    "\tdf['distance'] /= df['distance'].max()\n",
    "\treturn df.dropna(axis='rows')\n",
    "\n",
    "with open(\"assets/50kenglish.txt\", \"r\") as f:\n",
    "\twords_list = f.readlines()\n",
    "\n",
    "words_list = [i.replace(\"\\n\",\"\") for i in words_list]\n",
    "df = base_df(words_list)\n",
    "df.to_excel(\"assets/output.xlsx\")\n",
    "df.sample(10)"
   ]
  },
  {
   "cell_type": "code",
   "execution_count": 90,
   "metadata": {},
   "outputs": [
    {
     "data": {
      "image/png": "[encoded data removed]",
      "text/plain": [
       "<Figure size 432x288 with 1 Axes>"
      ]
     },
     "metadata": {
      "needs_background": "light"
     },
     "output_type": "display_data"
    }
   ],
   "source": [
    "# determine optimal words clusters' number and their coordinates\n",
    "\n",
    "from scipy.cluster.vq import kmeans\n",
    "import json\n",
    "import matplotlib.pyplot as plt\n",
    "from sklearn.preprocessing import StandardScaler\n",
    "from sklearn.cluster import KMeans, MiniBatchKMeans\n",
    "\n",
    "distorsions = []\n",
    "scaler = StandardScaler()\n",
    "X_std = scaler.fit_transform(df)\n",
    "batch_ = 500\n",
    "for k in range(2, (batch_*3)-1):\n",
    "    kmeans = MiniBatchKMeans(n_clusters=k, random_state=0, batch_size=batch_)\n",
    "    kmeans.fit(X_std)\n",
    "    distorsions.append(kmeans.inertia_)\n",
    "\n",
    "with open(\"assets/distorsions.log\", \"w\") as f:\n",
    "    f.write(json.dumps(distorsions))\n",
    "\n",
    "\n",
    "plt.plot(distorsions)\n",
    "plt.show()"
   ]
  },
  {
   "cell_type": "code",
   "execution_count": 94,
   "metadata": {},
   "outputs": [
    {
     "name": "stdout",
     "output_type": "stream",
     "text": [
      "Elbow's optimal clusters number: 228\n"
     ]
    }
   ],
   "source": [
    "from scipy.cluster.vq import kmeans\n",
    "from kneed import KneeLocator\n",
    "\n",
    "kn = KneeLocator(range(2, (batch_*3)-1), distorsions, curve='convex', direction='decreasing')\n",
    "print(\"Elbow's optimal clusters number: %d\"%kn.knee)\n",
    "features = np.c_[df]\n",
    "clusters = kmeans(features,kn.knee)\n",
    "\n",
    "with open(\"assets/englishClusters.log\", \"w\") as f:\n",
    "    f.write(json.dumps(clusters[0].tolist()))"
   ]
  },
  {
   "cell_type": "code",
   "execution_count": 130,
   "metadata": {},
   "outputs": [
    {
     "data": {
      "text/plain": [
       "<matplotlib.collections.PathCollection at 0x7f54f0c58588>"
      ]
     },
     "execution_count": 130,
     "metadata": {},
     "output_type": "execute_result"
    },
    {
     "data": {
      "image/png": "[encoded data removed]",
      "text/plain": [
       "<Figure size 432x288 with 1 Axes>"
      ]
     },
     "metadata": {
      "needs_background": "light"
     },
     "output_type": "display_data"
    }
   ],
   "source": [
    "data = 0\n",
    "with open(\"assets/englishClusters.log\", \"r\") as f:\n",
    "    data = json.loads(f.read())\n",
    "    \n",
    "plt.scatter([i[0] for i in data], [i[1] for i in data], marker='x', color=\"orange\")\n",
    "sample_w = df.sample(1000)\n",
    "plt.scatter(sample_w['distance'], sample_w['sentiment'], marker='+', color=\"blue\")"
   ]
  },
  {
   "cell_type": "markdown",
   "metadata": {},
   "source": [
    "# Preparing the training and testing dataset"
   ]
  },
  {
   "cell_type": "code",
   "execution_count": 140,
   "metadata": {},
   "outputs": [],
   "source": [
    "# SQLite queries handler:\n",
    "import sqlite3\n",
    "def sql_run(cmd):\n",
    "\tsql = sqlite3.connect(\"assets/test1.db\")\n",
    "\tsql_cursor = sql.cursor()\n",
    "\tsql_cursor.execute(cmd)\n",
    "\tdbmsg = 0\n",
    "\ttry:\n",
    "\t\tdbmsg = sql_cursor.fetchall()\n",
    "\texcept:\n",
    "\t\tdbmsg = sql_cursor.fetchone()\n",
    "\tsql.commit()\n",
    "\tsql_cursor.close()\n",
    "\tsql.close()\n",
    "\treturn dbmsg"
   ]
  },
  {
   "cell_type": "code",
   "execution_count": 135,
   "metadata": {},
   "outputs": [],
   "source": [
    "# Store words in the DB, assign IDs and update words frequencies\n",
    "def word_enumerate(words_list):\n",
    "\tsql_run('''CREATE TABLE IF NOT EXISTS words_register\n",
    "\t\t\t(word_id INTEGER NOT NULL PRIMARY KEY AUTOINCREMENT, word text, count INTEGER);''')\n",
    "\tfor word in words_list:\n",
    "\t\tselect_ = sql_run('''SELECT word_id, count FROM words_register WHERE word=\"%s\";'''%word)\n",
    "\t\tif len(select_):\n",
    "\t\t\tsql_run('''UPDATE words_register SET count=%d WHERE word_id=%d;'''%(select_[0][1]+1, select_[0][0]))\n",
    "\t\telse:\n",
    "\t\t\tsql_run('''INSERT INTO words_register (word, count) VALUES ('%s', 1);'''%word)\n",
    "\n",
    "\n",
    "#Store news as a list of IDs (IDs are assigned by the previous function)\n",
    "# argument is a python dictionnary: {0 : [time, [news summary as a list of words]}], 1: ...}\n",
    "def news_storing(news_dic):\n",
    "\tsql_run('''CREATE TABLE IF NOT EXISTS news_register\n",
    "\t\t\t(news_id INTEGER NOT NULL PRIMARY KEY AUTOINCREMENT, date text, summary_array text);''')\n",
    "\tnews_idx = []\n",
    "\tfor k in news_dic.keys():\n",
    "\t\tdate = news_dic[k][0]\n",
    "\t\twords_list = tuple(news_dic[k][1])\n",
    "\t\tquery = '''SELECT word_id, word FROM words_register WHERE word IN %s;'''%str(words_list)\n",
    "\t\tselect_ = sql_run(query)\n",
    "\t\tnumerical_equivalent = []\n",
    "\t\tfor w in range(len(news_dic[k][1])):\n",
    "\t\t\tfor j in select_:\n",
    "\t\t\t\tif j[1]==news_dic[k][1][w]:\n",
    "\t\t\t\t\tnumerical_equivalent.append(j[0])\n",
    "\t\tsql_run('''INSERT INTO news_register (date, summary_array) VALUES ('%s', '%s');'''%(date, json.dumps(numerical_equivalent)))\n",
    "\t\tnews_idx.append([words_list ,numerical_equivalent])\n",
    "\treturn news_idx"
   ]
  },
  {
   "cell_type": "code",
   "execution_count": 137,
   "metadata": {},
   "outputs": [],
   "source": [
    "# take the 8 least occuring words from each list of words (news)\n",
    "# news_numeric is the a list of words associated IDs, that are equivalent to a news headline or summary\n",
    "def freq_filter(news_numeric):\n",
    "\tquery = '''SELECT word_id, word, count FROM words_register WHERE word_id IN %s;'''%str(tuple(news_numeric))\n",
    "\tselect_ = sql_run(query)\n",
    "\tfreq_ = [j[2] for j in select_]\n",
    "\tfreq_ = sorted(list(set(freq_)), reverse=False)\n",
    "\tresp_ = []\n",
    "\tc = 0\n",
    "\twhile len(resp_)<min(8, len(news_numeric)):\n",
    "\t\tfor num in news_numeric:\n",
    "\t\t\tfor j in select_:\n",
    "\t\t\t\tif j[0] == num and j[2] <= freq_[c]:\n",
    "\t\t\t\t\tresp_.append(num)\n",
    "\t\tc += 1\n",
    "\tresp_ += [0]*8\n",
    "\treturn resp_[:8]"
   ]
  },
  {
   "cell_type": "code",
   "execution_count": 138,
   "metadata": {},
   "outputs": [],
   "source": [
    "# Assign each word to the closest cluster centroid coordinates\n",
    "def assignment(df, centroids):\n",
    "\tfor i in range(len(centroids)):\n",
    "\t\tdf['distance_from_{}'.format(i)] = (\n",
    "\t\t\tnp.sqrt(\n",
    "\t\t\t\t(df['distance'] - centroids[i][0]) ** 2\n",
    "\t\t\t\t+ (df['sentiment'] - centroids[i][1]) ** 2\n",
    "\t\t\t)\n",
    "\t\t)\n",
    "\tcentroid_distance_cols = ['distance_from_{}'.format(i) for i in range(len(centroids))]\n",
    "\tdf['closest'] = df.loc[:, centroid_distance_cols].idxmin(axis=1)\n",
    "\tdf['kmean'] = df['closest'].apply(lambda x: str(x).replace('distance_from_',''))\n",
    "\tdf['kmean'] = pd.to_numeric(df['kmean'])\n",
    "\tdf['cluster_distance'] = df['kmean'].map(lambda x: centroids[x][0])\n",
    "\tdf['cluster_sentiment'] = df['kmean'].map(lambda x: centroids[x][1])\n",
    "\treturn df"
   ]
  },
  {
   "cell_type": "markdown",
   "metadata": {},
   "source": [
    "# The final step in preparing the training dataset using all the function defined above"
   ]
  },
  {
   "cell_type": "code",
   "execution_count": 143,
   "metadata": {
    "scrolled": true
   },
   "outputs": [
    {
     "data": {
      "text/html": [
       "<div>\n",
       "<style scoped>\n",
       "    .dataframe tbody tr th:only-of-type {\n",
       "        vertical-align: middle;\n",
       "    }\n",
       "\n",
       "    .dataframe tbody tr th {\n",
       "        vertical-align: top;\n",
       "    }\n",
       "\n",
       "    .dataframe thead th {\n",
       "        text-align: right;\n",
       "    }\n",
       "</style>\n",
       "<table border=\"1\" class=\"dataframe\">\n",
       "  <thead>\n",
       "    <tr style=\"text-align: right;\">\n",
       "      <th></th>\n",
       "      <th>symbol</th>\n",
       "      <th>word_0</th>\n",
       "      <th>word_1</th>\n",
       "      <th>word_2</th>\n",
       "      <th>word_3</th>\n",
       "      <th>word_4</th>\n",
       "      <th>word_5</th>\n",
       "      <th>word_6</th>\n",
       "      <th>word_7</th>\n",
       "      <th>output</th>\n",
       "    </tr>\n",
       "  </thead>\n",
       "  <tbody>\n",
       "    <tr>\n",
       "      <th>0</th>\n",
       "      <td>BHR</td>\n",
       "      <td>-1.686418</td>\n",
       "      <td>-0.305010</td>\n",
       "      <td>-0.211008</td>\n",
       "      <td>-0.073558</td>\n",
       "      <td>0.088254</td>\n",
       "      <td>-0.959025</td>\n",
       "      <td>0.422383</td>\n",
       "      <td>0.516385</td>\n",
       "      <td>0.038429</td>\n",
       "    </tr>\n",
       "    <tr>\n",
       "      <th>1</th>\n",
       "      <td>DMAC</td>\n",
       "      <td>-0.509994</td>\n",
       "      <td>-0.364515</td>\n",
       "      <td>-0.219037</td>\n",
       "      <td>-0.073558</td>\n",
       "      <td>-0.438831</td>\n",
       "      <td>0.217399</td>\n",
       "      <td>0.362877</td>\n",
       "      <td>-0.002395</td>\n",
       "      <td>0.010638</td>\n",
       "    </tr>\n",
       "    <tr>\n",
       "      <th>2</th>\n",
       "      <td>CREE</td>\n",
       "      <td>-0.509994</td>\n",
       "      <td>-0.290861</td>\n",
       "      <td>-0.219037</td>\n",
       "      <td>-0.073558</td>\n",
       "      <td>0.071920</td>\n",
       "      <td>0.217399</td>\n",
       "      <td>-1.487436</td>\n",
       "      <td>0.582010</td>\n",
       "      <td>0.010475</td>\n",
       "    </tr>\n",
       "    <tr>\n",
       "      <th>3</th>\n",
       "      <td>KOPN</td>\n",
       "      <td>-0.501965</td>\n",
       "      <td>-0.356486</td>\n",
       "      <td>-0.211008</td>\n",
       "      <td>0.000096</td>\n",
       "      <td>0.079949</td>\n",
       "      <td>0.225428</td>\n",
       "      <td>0.400047</td>\n",
       "      <td>0.582010</td>\n",
       "      <td>-0.008547</td>\n",
       "    </tr>\n",
       "    <tr>\n",
       "      <th>4</th>\n",
       "      <td>VTGN</td>\n",
       "      <td>-0.381409</td>\n",
       "      <td>0.400173</td>\n",
       "      <td>-0.090452</td>\n",
       "      <td>0.691130</td>\n",
       "      <td>0.200505</td>\n",
       "      <td>0.225428</td>\n",
       "      <td>1.127566</td>\n",
       "      <td>0.636941</td>\n",
       "      <td>-0.052632</td>\n",
       "    </tr>\n",
       "  </tbody>\n",
       "</table>\n",
       "</div>"
      ],
      "text/plain": [
       "  symbol    word_0    word_1    word_2    word_3    word_4    word_5  \\\n",
       "0    BHR -1.686418 -0.305010 -0.211008 -0.073558  0.088254 -0.959025   \n",
       "1   DMAC -0.509994 -0.364515 -0.219037 -0.073558 -0.438831  0.217399   \n",
       "2   CREE -0.509994 -0.290861 -0.219037 -0.073558  0.071920  0.217399   \n",
       "3   KOPN -0.501965 -0.356486 -0.211008  0.000096  0.079949  0.225428   \n",
       "4   VTGN -0.381409  0.400173 -0.090452  0.691130  0.200505  0.225428   \n",
       "\n",
       "     word_6    word_7    output  \n",
       "0  0.422383  0.516385  0.038429  \n",
       "1  0.362877 -0.002395  0.010638  \n",
       "2 -1.487436  0.582010  0.010475  \n",
       "3  0.400047  0.582010 -0.008547  \n",
       "4  1.127566  0.636941 -0.052632  "
      ]
     },
     "execution_count": 143,
     "metadata": {},
     "output_type": "execute_result"
    }
   ],
   "source": [
    "#The following functions will use the previous functions to make the final training dataset, by joining different types of outputs (words_ids, dimensions, assigned clusters ...)\n",
    "\n",
    "def prelayer_processor(news_df):\n",
    "\tsia = SentimentIntensityAnalyzer()\n",
    "\tconca_, filtred_news = [], []\n",
    "\tnews_df = news_df[['summary', 'time', 'symbol']]\n",
    "\tnews_dic = {}\n",
    "\tfor i in news_df.index:\n",
    "\t\ttmp_iloc = news_df.iloc[i]\n",
    "\t\tconca_ += tmp_iloc['summary']\n",
    "\t\tnews_dic[i] = [tmp_iloc['time'], tmp_iloc['summary']]\n",
    "\tword_enumerate(conca_)\n",
    "\tnews_idx = news_storing(news_dic)\n",
    "\twords_idx = []\n",
    "\tfor article in range(len(news_idx)):\n",
    "\t\ttmp_ = freq_filter(news_idx[article][1])\n",
    "\t\twords_idx += tmp_\n",
    "\t\ttmp_word = []\n",
    "\t\tfor i in tmp_:\n",
    "\t\t\ttmp_word.append(news_idx[article][0][news_idx[article][1].index(i)])\n",
    "\t\tnews_idx[article][1] = tmp_word\n",
    "\t\tfiltred_news.append(tmp_word)\n",
    "\tconca_sep = []\n",
    "\tfor i in news_idx:\n",
    "\t\tconca_sep.append(list(i[1]))\n",
    "\tvader_sentiment_, distance_ = [], []\n",
    "\tconca_ = sum(conca_sep, [])\n",
    "\twords_ref = list(sia.make_lex_dict().keys())\n",
    "\tfor i in conca_:\n",
    "\t\tdistance_.append(absolute_distance(i))\n",
    "\t\tsent_ = sia.polarity_scores(i)['compound']\n",
    "\t\tif not sent_:\n",
    "\t\t\tsent_ = approximate_sentiment(i, words_ref, sia)\n",
    "\t\tvader_sentiment_.append(sent_)\n",
    "\twords_position = np.asarray(sum([[round((j+1)/len(i), 4) for j in range(len(i))] for i in conca_sep], []), dtype='float64')\n",
    "\tsymbols = sum([[i]*8 for i in list(news_df['symbol'])], [])\n",
    "\tdf = pd.DataFrame(np.array([distance_, vader_sentiment_, words_position, words_idx, symbols]).transpose(), index=[i for i in conca_], columns=['distance','sentiment', 'position', 'word_id', 'symbol'])\n",
    "\tdf['distance'] = pd.to_numeric(df['distance'], errors='coerce')\n",
    "\tdf['sentiment'] = pd.to_numeric(df['sentiment'], errors='coerce')\n",
    "\tdf['position'] = pd.to_numeric(df['position'], errors='coerce')\n",
    "\tdf['word_id'] = pd.to_numeric(df['word_id'], errors='coerce')\n",
    "\tfor col in list(df.columns)[:-1]:\n",
    "\t\tc_ = df[col]\n",
    "\t\tdf[col] = (c_ - c_.mean())/c_.std(ddof=0)\n",
    "\tdf = df.dropna(axis='rows')\n",
    "\tclusters = []\n",
    "\twith open(\"assets/englishClusters.log\", \"r\") as f:\n",
    "\t\tclusters = json.loads(f.read())\n",
    "\tdf = assignment(df, clusters)[['distance', 'sentiment', 'position', 'kmean', 'cluster_distance', 'cluster_sentiment', 'word_id', 'symbol']].dropna(axis='rows')\n",
    "\treturn df.dropna(axis='rows'), filtred_news\n",
    "\n",
    "\n",
    "#process_IODF: join multiple news, published within small time frame related to the same security\n",
    "#and provide the associated market trend\n",
    "def process_IODF():\n",
    "\tdata = pd.read_excel(\"assets/dataset_news_market.xlsx\", index_col=0)\n",
    "\tdata.index = pd.RangeIndex(len(data))\n",
    "\tfrom nltk.tokenize import TreebankWordTokenizer\n",
    "\ttokenizer = TreebankWordTokenizer()\n",
    "\tfor k in range(data.index[-1]+1):\n",
    "\t\ttmp_s = data.iloc[k]['summary'].lower()\n",
    "\t\ttmp_s = ''.join([i for i in tmp_s if i in string.ascii_lowercase+\" \"])\n",
    "\t\ttmp_s = tokenizer.tokenize(tmp_s)\n",
    "\t\tif len(tmp_s) < 8:\n",
    "\t\t\tdata.at[k, 'summary'] = float('NaN')\n",
    "\t\telse:\n",
    "\t\t\tdata.at[k, 'summary'] = tmp_s\n",
    "\treturn data\n",
    "\n",
    "\n",
    "#Join input(prelayer_processor) and output(market_trend)\n",
    "def neural_dataframe():\n",
    "\tinfo = process_IODF().dropna(axis='rows')\n",
    "\tinfo.index = pd.RangeIndex(len(info))\n",
    "\talpha_df, filtred_news = prelayer_processor(info)\n",
    "\tassign = []\n",
    "\tfor j in range(0, len(alpha_df), 8):\n",
    "\t\tinput_ = []\n",
    "\t\tfor i in range(8):\n",
    "\t\t\t#the linear formula to convert each word : (3*word_sentiment+cluster_distance+2*word_position)/6\n",
    "\t\t\tinput_.append((3*alpha_df.iloc[i+j].sentiment+alpha_df.iloc[i+j].cluster_distance+2*alpha_df.iloc[i+j].position)/6)\n",
    "\t\tassign.append([alpha_df.iloc[j].symbol, input_, info.iloc[int(j/8)]['Close_variation']])\n",
    "\tdf = pd.DataFrame(np.array(assign), columns=['symbol', 'input', 'output'])\n",
    "\texpand_df = df['input'].apply(pd.Series)\n",
    "\texpand_df = expand_df.rename(columns = lambda x : 'word_' + str(x))\n",
    "\tassign = pd.concat([df['symbol'], expand_df[:], df['output']], axis=1)\n",
    "\tassign = assign.loc[assign['output']!=0].copy()\n",
    "\treturn assign\n",
    "\n",
    "final_df = neural_dataframe()\n",
    "final_df.to_excel(\"assets/neural_training_dataset.xlsx\")\n",
    "final_df.head()"
   ]
  },
  {
   "cell_type": "markdown",
   "metadata": {},
   "source": [
    "# Deep learning using Tensorflow:"
   ]
  },
  {
   "cell_type": "code",
   "execution_count": 146,
   "metadata": {
    "scrolled": true
   },
   "outputs": [],
   "source": [
    "from sklearn.preprocessing import MinMaxScaler\n",
    "import tensorflow as tf\n",
    "from scipy import stats\n",
    "import os\n",
    "#Supress debugging info\n",
    "os.environ['TF_CPP_MIN_LOG_LEVEL'] = '3'\n",
    "\n",
    "df = pd.read_excel(\"assets/neural_training_dataset.xlsx\", index_col=0)\n",
    "df = df.drop(['symbol'],axis=1)\n",
    "# Remove rows where predictions are too close to 0\n",
    "df = df.loc[(np.abs(stats.zscore(df['output'])) > 0.5)].copy()\n",
    "\n",
    "df_train = df[:2000]\n",
    "df_test = df[2000:2500]\n",
    "\n",
    "\n",
    "X_train = df_train.drop(['output'],axis=1).values\n",
    "y_train = df_train['output'].values.reshape(-1, 1)\n",
    "X_test = df_test.drop(['output'],axis=1).values\n",
    "y_test = df_test['output'].values.reshape(-1, 1)\n",
    "\n",
    "#Define the network structure and the activation function\n",
    "def neural_net_model(X_data,input_dim):\n",
    "\tW_1 = tf.Variable(tf.random_uniform([input_dim,24],maxval=0.3))\n",
    "\tb_1 = tf.Variable(tf.zeros([24]))\n",
    "\tlayer_1 = tf.add(tf.matmul(X_data,W_1), b_1)\n",
    "\tlayer_1 = tf.nn.sigmoid(layer_1)\n",
    "\n",
    "\tW_2 = tf.Variable(tf.random_uniform([24,24],maxval=0.3))\n",
    "\tb_2 = tf.Variable(tf.zeros([24]))\n",
    "\tlayer_2 = tf.add(tf.matmul(layer_1,W_2), b_2)\n",
    "\tlayer_2 = tf.nn.sigmoid(layer_2)\n",
    "\n",
    "\tW_3 = tf.Variable(tf.random_uniform([24,24],maxval=0.3))\n",
    "\tb_3 = tf.Variable(tf.zeros([24]))\n",
    "\tlayer_3 = tf.add(tf.matmul(layer_2,W_3), b_3)\n",
    "\tlayer_3 = tf.nn.sigmoid(layer_3)\n",
    "\n",
    "\tW_O = tf.Variable(tf.random_uniform([24,1],maxval=0.3))\n",
    "\tb_O = tf.Variable(tf.zeros([1]))\n",
    "\toutput = tf.add(tf.matmul(layer_3,W_O), b_O)\n",
    "\treturn output,W_O\n",
    "\n",
    "\n",
    "xs = tf.placeholder(\"float\")\n",
    "ys = tf.placeholder(\"float\")\n",
    "\n",
    "\n",
    "output,W_O = neural_net_model(xs,8)\n",
    "\n",
    "cost = tf.reduce_mean(tf.square(output-ys))\n",
    "#1e-4 is the optimazer learning rate\n",
    "train = tf.train.AdamOptimizer(1e-4).minimize(cost)\n",
    "\n",
    "correct_pred = tf.argmax(output, 1)\n",
    "accuracy = tf.reduce_mean(tf.cast(correct_pred,tf.float32))\n",
    "\n",
    "c_t = []\n",
    "c_test = []"
   ]
  },
  {
   "cell_type": "code",
   "execution_count": 180,
   "metadata": {},
   "outputs": [
    {
     "name": "stdout",
     "output_type": "stream",
     "text": [
      "Cost : 0.0056045623\n"
     ]
    },
    {
     "data": {
      "image/png": "[encoded data removed]",
      "text/plain": [
       "<Figure size 432x288 with 1 Axes>"
      ]
     },
     "metadata": {
      "needs_background": "light"
     },
     "output_type": "display_data"
    }
   ],
   "source": [
    "#Start a training and testing session:\n",
    "import time, codecs\n",
    "\n",
    "os.environ['TF_CPP_MIN_LOG_LEVEL'] = '3'\n",
    "with tf.Session() as sess:\n",
    "\ttime.sleep(5)\n",
    "\tsess.run(tf.initialize_all_variables())\n",
    "\tsaver = tf.train.Saver()\n",
    "\ty_t = y_train\n",
    "\trecord_cost = []\n",
    "\tfor i in range(100):\n",
    "\t\tfor j in range(X_train.shape[0]):\n",
    "\t\t\tsess.run([cost,train],feed_dict={xs:X_train[j,:].reshape(1,8), ys:y_train[j]})\n",
    "\t\tpred = sess.run(output, feed_dict={xs:X_train})\n",
    "\t\tc_t.append(sess.run(cost, feed_dict={xs:X_train,ys:y_train}))\n",
    "\t\tc_test.append(sess.run(cost, feed_dict={xs:X_test,ys:y_test}))\n",
    "\t\trecord_cost.append(c_t[i])\n",
    "\n",
    "\tpred = sess.run(output, feed_dict={xs:X_test})\n",
    "\tprint('Cost :',sess.run(cost, feed_dict={xs:X_test,ys:y_test}))\n",
    "\ta = np.array([y_test, pred]).reshape(-1,y_test.shape[0]).transpose()\n",
    "\tb = a.tolist()\n",
    "\tfile_path = \"assets/result.json\"\n",
    "\tjson.dump(b, codecs.open(file_path, 'w', encoding='utf-8'), separators=(',', ':'), sort_keys=True, indent=4)\n",
    "\tplt.plot(range(2, len(record_cost)+1), record_cost[1:])\n",
    "\tplt.xlabel('Epoch')\n",
    "\tplt.ylabel('Cost')\n",
    "\tplt.show()"
   ]
  },
  {
   "cell_type": "code",
   "execution_count": 183,
   "metadata": {
    "scrolled": true
   },
   "outputs": [
    {
     "data": {
      "image/png": "[encoded data removed]",
      "text/plain": [
       "<Figure size 432x288 with 1 Axes>"
      ]
     },
     "metadata": {
      "needs_background": "light"
     },
     "output_type": "display_data"
    }
   ],
   "source": [
    "# Plot amplified prediction and the original market values\n",
    "\tplt.plot(range(y_test.shape[0]),y_test,label=\"Original Data\")\n",
    "\tplt.plot(range(y_test.shape[0]),pred*30,label=\"Predicted Data\",color='orange')\n",
    "\tplt.show()"
   ]
  },
  {
   "cell_type": "markdown",
   "metadata": {},
   "source": [
    "# Evaluating the predictions accuracy :"
   ]
  },
  {
   "cell_type": "code",
   "execution_count": 192,
   "metadata": {},
   "outputs": [
    {
     "name": "stdout",
     "output_type": "stream",
     "text": [
      "[!] Apply: Unfiltred\n",
      "Accuracy : 55.99%\n",
      "[!] Apply: Filtered\n",
      "Accuracy : 63.92%\n"
     ]
    }
   ],
   "source": [
    "obj_text = codecs.open('assets/result.json', 'r', encoding='utf-8').read()\n",
    "obj_np = np.array(json.loads(obj_text))\n",
    "for j in [[0, 'Unfiltred'], [int(len(obj_np)/2), 'Filtered']]:\n",
    "    print(\"[!] Apply: \"+j[1])\n",
    "    res = pd.DataFrame(obj_np, columns=['original','predict'])[j[0]:]\n",
    "    thresh_ = res['predict'].value_counts().median()\n",
    "    for i in range(len(res['predict'].value_counts())):\n",
    "        if res['predict'].value_counts().iloc[i] <= thresh_:\n",
    "            thresh_ = i\n",
    "            break\n",
    "    res = res.loc[res['predict'].isin(res['predict'].value_counts().index[thresh_:])].copy()\n",
    "    print(\"Accuracy : {0:.2f}%\".format(res.loc[res['original']*res['predict']>0].shape[0]*100/res.shape[0]))"
   ]
  }
 ],
 "metadata": {
  "kernelspec": {
   "display_name": "Python 3",
   "language": "python",
   "name": "python3"
  },
  "language_info": {
   "codemirror_mode": {
    "name": "ipython",
    "version": 3
   },
   "file_extension": ".py",
   "mimetype": "text/x-python",
   "name": "python",
   "nbconvert_exporter": "python",
   "pygments_lexer": "ipython3",
   "version": "3.5.2"
  }
 },
 "nbformat": 4,
 "nbformat_minor": 2
}
